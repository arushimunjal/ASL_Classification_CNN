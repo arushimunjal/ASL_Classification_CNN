{
 "cells": [
  {
   "cell_type": "markdown",
   "id": "c3450856-faee-478d-80d1-88c34d9b8b5b",
   "metadata": {},
   "source": [
    "Final Project - ECE 176"
   ]
  },
  {
   "cell_type": "markdown",
   "id": "37796d29-c2a9-4ced-9d7a-aa7f485903b9",
   "metadata": {},
   "source": [
    "Arushi Munjal and Sri Ujjini"
   ]
  }
 ],
 "metadata": {
  "kernelspec": {
   "display_name": "Python 3 (ipykernel)",
   "language": "python",
   "name": "python3"
  },
  "language_info": {
   "codemirror_mode": {
    "name": "ipython",
    "version": 3
   },
   "file_extension": ".py",
   "mimetype": "text/x-python",
   "name": "python",
   "nbconvert_exporter": "python",
   "pygments_lexer": "ipython3",
   "version": "3.11.9"
  }
 },
 "nbformat": 4,
 "nbformat_minor": 5
}
